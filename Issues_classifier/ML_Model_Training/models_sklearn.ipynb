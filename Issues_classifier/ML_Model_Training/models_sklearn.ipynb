{
 "cells": [
  {
   "cell_type": "markdown",
   "metadata": {},
   "source": [
    "## Purpose of this Notebook: \n",
    "#### The purpose of this notebook is simply evaluating the results for pytorch with title and body, pytorch with title, tensorflow with title and body, and tensorflow with title. This will be helpful to choose the best model for our usecase to identify whether the issues are buggy or not. \n"
   ]
  },
  {
   "cell_type": "markdown",
   "metadata": {},
   "source": [
    "### 1.Using Bert Embedding"
   ]
  },
  {
   "cell_type": "code",
   "execution_count": 23,
   "metadata": {},
   "outputs": [],
   "source": [
    "data_torch_Title_bert = pd.read_csv('./Data/GT_bert_data_pytorch.csv')\n",
    "data_tf_Title_bert    = data = pd.read_csv('./Data/GT_bert_data_tf.csv')\n",
    "\n",
    "#title and body together as a vector of embeddings\n",
    "data_tf_concat_bert = pd.read_csv('./Data/GT_bert_concat_data_tf.csv')\n",
    "data_torch_concat_bert = pd.read_csv('./Data/GT_bert_concat_data_torch.csv')"
   ]
  },
  {
   "cell_type": "markdown",
   "metadata": {},
   "source": [
    "#### Some Helpful Functions for preprocessing the data"
   ]
  },
  {
   "cell_type": "code",
   "execution_count": 59,
   "metadata": {},
   "outputs": [],
   "source": [
    "import re\n",
    "def remove_extra_commas(input_string):\n",
    "    # Use regular expression to replace multiple commas with a single comma\n",
    "    cleaned_string = re.sub(',+', ',', input_string)\n",
    "    return cleaned_string\n",
    "\n",
    "\n",
    "def modify(input_string):\n",
    "    try:\n",
    "        input_string = input_string.replace('\\n', '').replace(' ', ',').replace(\":\", \"\")\n",
    "        input_string = remove_extra_commas(input_string)\n",
    "        if(input_string[1] == ','):\n",
    "            input_string = input_string[0] + input_string[2:]\n",
    "        input_string = ast.literal_eval(input_string.replace(' ',''))\n",
    "    except:\n",
    "        print(input_string)\n",
    "    return input_string\n",
    "\n",
    "\n",
    "\n",
    "def training(model, X,y):\n",
    "    # model = LogisticRegression()\n",
    "\n",
    "    # Define scoring metrics\n",
    "    scoring_metrics = {\n",
    "        'accuracy': make_scorer(accuracy_score),\n",
    "        'precision': make_scorer(precision_score),\n",
    "        'recall': make_scorer(recall_score),\n",
    "        'f1_score': make_scorer(f1_score)\n",
    "    }\n",
    "\n",
    "    # Perform 5-fold cross-validation\n",
    "    # You can adjust the 'cv' parameter to change the number of folds\n",
    "    scores = cross_validate(model, X, y, cv=5, scoring=scoring_metrics)\n",
    "\n",
    "    # Print the cross-validation scores\n",
    "    print(\"Cross-Validation Accuracy Scores:\", scores['test_accuracy'])\n",
    "    print(\"Mean Accuracy:\", scores['test_accuracy'].mean())\n",
    "\n",
    "    print(\"\\nCross-Validation Precision Scores:\", scores['test_precision'])\n",
    "    print(\"Mean Precision:\", scores['test_precision'].mean())\n",
    "\n",
    "    print(\"\\nCross-Validation Recall Scores:\", scores['test_recall'])\n",
    "    print(\"Mean Recall:\", scores['test_recall'].mean())\n",
    "\n",
    "    print(\"\\nCross-Validation F1 Scores:\", scores['test_f1_score'])\n",
    "    print(\"Mean F1 Score:\", scores['test_f1_score'].mean())\n",
    "    \n",
    "def preprocessEmbeddingsTitle(data, col):\n",
    "    X = data[col].apply(lambda x: modify(x))\n",
    "    X = np.asarray(X.values.tolist(), dtype=np.float32)\n",
    "    #Given data['Is Bug']make them 0 and 1\n",
    "    data['Is Bug'] = data['Is Bug'].apply(lambda x: 1 if x == True else 0)\n",
    "    #get it as numpy array\n",
    "    y = np.asarray(data['Is Bug'], dtype=np.uint8)\n",
    "    return X,y\n",
    "    "
   ]
  },
  {
   "cell_type": "code",
   "execution_count": 41,
   "metadata": {},
   "outputs": [],
   "source": [
    "from sklearn.model_selection import cross_validate\n",
    "from sklearn.metrics import make_scorer, accuracy_score, precision_score, recall_score, f1_score\n",
    "from sklearn.linear_model import LogisticRegression\n",
    "from sklearn.tree import DecisionTreeClassifier\n",
    "from sklearn.ensemble import RandomForestClassifier\n",
    "import pandas as pd\n",
    "import ast\n",
    "import numpy as np\n",
    "col1 = 'BERT Embedding'\n",
    "col2 = 'Issue Title'\n",
    "\n",
    "\n"
   ]
  },
  {
   "cell_type": "markdown",
   "metadata": {},
   "source": [
    "#### Result 1: PyTorch with Title Only"
   ]
  },
  {
   "cell_type": "code",
   "execution_count": 43,
   "metadata": {},
   "outputs": [
    {
     "name": "stdout",
     "output_type": "stream",
     "text": [
      "Cross-Validation Accuracy Scores: [0.87179487 0.94871795 0.87179487 0.85714286 0.83116883]\n",
      "Mean Accuracy: 0.8761238761238761\n",
      "\n",
      "Cross-Validation Precision Scores: [0.87179487 0.97297297 0.87179487 0.83333333 0.82051282]\n",
      "Mean Precision: 0.8740817740817741\n",
      "\n",
      "Cross-Validation Recall Scores: [0.87179487 0.92307692 0.87179487 0.8974359  0.84210526]\n",
      "Mean Recall: 0.8812415654520919\n",
      "\n",
      "Cross-Validation F1 Scores: [0.87179487 0.94736842 0.87179487 0.86419753 0.83116883]\n",
      "Mean F1 Score: 0.8772649053350807\n"
     ]
    }
   ],
   "source": [
    "#Logistic Regression\n",
    "X,y = preprocessEmbeddingsTitle(data_torch_Title_bert, col2)\n",
    "training(LogisticRegression(), X,y)"
   ]
  },
  {
   "cell_type": "code",
   "execution_count": 44,
   "metadata": {},
   "outputs": [
    {
     "name": "stdout",
     "output_type": "stream",
     "text": [
      "Cross-Validation Accuracy Scores: [0.73076923 0.80769231 0.74358974 0.74025974 0.72727273]\n",
      "Mean Accuracy: 0.7499167499167498\n",
      "\n",
      "Cross-Validation Precision Scores: [0.73684211 0.875      0.78787879 0.75675676 0.72972973]\n",
      "Mean Precision: 0.7772414759256865\n",
      "\n",
      "Cross-Validation Recall Scores: [0.71794872 0.71794872 0.66666667 0.71794872 0.71052632]\n",
      "Mean Recall: 0.7062078272604589\n",
      "\n",
      "Cross-Validation F1 Scores: [0.72727273 0.78873239 0.72222222 0.73684211 0.72      ]\n",
      "Mean F1 Score: 0.739013889824861\n"
     ]
    }
   ],
   "source": [
    "#Decision Tree\n",
    "X,y = preprocessEmbeddingsTitle(data_torch_Title_bert, col2)\n",
    "training(DecisionTreeClassifier(), X,y)"
   ]
  },
  {
   "cell_type": "code",
   "execution_count": 45,
   "metadata": {},
   "outputs": [
    {
     "name": "stdout",
     "output_type": "stream",
     "text": [
      "Cross-Validation Accuracy Scores: [0.8974359  0.97435897 0.87179487 0.80519481 0.81818182]\n",
      "Mean Accuracy: 0.8733932733932734\n",
      "\n",
      "Cross-Validation Precision Scores: [0.84444444 0.97435897 0.80851064 0.74       0.75      ]\n",
      "Mean Precision: 0.8234628114202582\n",
      "\n",
      "Cross-Validation Recall Scores: [0.97435897 0.97435897 0.97435897 0.94871795 0.94736842]\n",
      "Mean Recall: 0.9638326585695006\n",
      "\n",
      "Cross-Validation F1 Scores: [0.9047619  0.97435897 0.88372093 0.83146067 0.8372093 ]\n",
      "Mean F1 Score: 0.8863023571672644\n"
     ]
    }
   ],
   "source": [
    "#Random Forest\n",
    "X,y = preprocessEmbeddingsTitle(data_torch_Title_bert, col2)\n",
    "training(RandomForestClassifier(), X,y)"
   ]
  },
  {
   "cell_type": "markdown",
   "metadata": {},
   "source": [
    "#### Result 2: PyTorch with Title and Body"
   ]
  },
  {
   "cell_type": "code",
   "execution_count": 46,
   "metadata": {},
   "outputs": [
    {
     "name": "stdout",
     "output_type": "stream",
     "text": [
      "Cross-Validation Accuracy Scores: [0.83333333 0.92307692 0.8974359  0.87012987 0.87012987]\n",
      "Mean Accuracy: 0.8788211788211788\n",
      "\n",
      "Cross-Validation Precision Scores: [0.84210526 0.97142857 0.87804878 0.82222222 0.85      ]\n",
      "Mean Precision: 0.8727609674592985\n",
      "\n",
      "Cross-Validation Recall Scores: [0.82051282 0.87179487 0.92307692 0.94871795 0.89473684]\n",
      "Mean Recall: 0.8917678812415654\n",
      "\n",
      "Cross-Validation F1 Scores: [0.83116883 0.91891892 0.9        0.88095238 0.87179487]\n",
      "Mean F1 Score: 0.8805670005670005\n"
     ]
    }
   ],
   "source": [
    "#Logistic Regression\n",
    "X,y = preprocessEmbeddingsTitle(data_torch_concat_bert, col1)\n",
    "training(LogisticRegression(), X,y)"
   ]
  },
  {
   "cell_type": "code",
   "execution_count": 47,
   "metadata": {},
   "outputs": [
    {
     "name": "stdout",
     "output_type": "stream",
     "text": [
      "Cross-Validation Accuracy Scores: [0.73076923 0.76923077 0.76923077 0.77922078 0.74025974]\n",
      "Mean Accuracy: 0.7577422577422577\n",
      "\n",
      "Cross-Validation Precision Scores: [0.6875     0.88888889 0.81818182 0.82352941 0.70454545]\n",
      "Mean Precision: 0.7845291146761736\n",
      "\n",
      "Cross-Validation Recall Scores: [0.84615385 0.61538462 0.69230769 0.71794872 0.81578947]\n",
      "Mean Recall: 0.7375168690958166\n",
      "\n",
      "Cross-Validation F1 Scores: [0.75862069 0.72727273 0.75       0.76712329 0.75609756]\n",
      "Mean F1 Score: 0.7518228531149485\n"
     ]
    }
   ],
   "source": [
    "#Decision Tree\n",
    "X,y = preprocessEmbeddingsTitle(data_torch_concat_bert, col1)\n",
    "training(DecisionTreeClassifier(), X,y)"
   ]
  },
  {
   "cell_type": "code",
   "execution_count": 48,
   "metadata": {},
   "outputs": [
    {
     "name": "stdout",
     "output_type": "stream",
     "text": [
      "Cross-Validation Accuracy Scores: [0.80769231 0.8974359  0.85897436 0.85714286 0.81818182]\n",
      "Mean Accuracy: 0.847885447885448\n",
      "\n",
      "Cross-Validation Precision Scores: [0.78571429 0.94285714 0.80434783 0.78       0.75      ]\n",
      "Mean Precision: 0.812583850931677\n",
      "\n",
      "Cross-Validation Recall Scores: [0.84615385 0.84615385 0.94871795 1.         0.94736842]\n",
      "Mean Recall: 0.9176788124156545\n",
      "\n",
      "Cross-Validation F1 Scores: [0.81481481 0.89189189 0.87058824 0.87640449 0.8372093 ]\n",
      "Mean F1 Score: 0.8581817477416855\n"
     ]
    }
   ],
   "source": [
    "#Random Forest\n",
    "X,y = preprocessEmbeddingsTitle(data_torch_concat_bert, col1)\n",
    "training(RandomForestClassifier(), X,y)"
   ]
  },
  {
   "cell_type": "markdown",
   "metadata": {},
   "source": [
    "#### Result 3: TensorFlow with Title Only"
   ]
  },
  {
   "cell_type": "code",
   "execution_count": 49,
   "metadata": {},
   "outputs": [
    {
     "name": "stdout",
     "output_type": "stream",
     "text": [
      "Cross-Validation Accuracy Scores: [0.75362319 0.75362319 0.79411765 0.85294118 0.80882353]\n",
      "Mean Accuracy: 0.7926257459505541\n",
      "\n",
      "Cross-Validation Precision Scores: [0.73684211 0.77419355 0.83333333 0.92857143 0.83870968]\n",
      "Mean Precision: 0.8223300185948743\n",
      "\n",
      "Cross-Validation Recall Scores: [0.8        0.70588235 0.73529412 0.76470588 0.76470588]\n",
      "Mean Recall: 0.7541176470588236\n",
      "\n",
      "Cross-Validation F1 Scores: [0.76712329 0.73846154 0.78125    0.83870968 0.8       ]\n",
      "Mean F1 Score: 0.7851089007104253\n"
     ]
    }
   ],
   "source": [
    "#Logistic Regression\n",
    "X,y = preprocessEmbeddingsTitle(data_tf_Title_bert, col2)\n",
    "training(LogisticRegression(), X,y)"
   ]
  },
  {
   "cell_type": "code",
   "execution_count": 50,
   "metadata": {},
   "outputs": [
    {
     "name": "stdout",
     "output_type": "stream",
     "text": [
      "Cross-Validation Accuracy Scores: [0.62318841 0.66666667 0.73529412 0.80882353 0.67647059]\n",
      "Mean Accuracy: 0.7020886615515772\n",
      "\n",
      "Cross-Validation Precision Scores: [0.61538462 0.67741935 0.76666667 0.83870968 0.6875    ]\n",
      "Mean Precision: 0.7171360628618693\n",
      "\n",
      "Cross-Validation Recall Scores: [0.68571429 0.61764706 0.67647059 0.76470588 0.64705882]\n",
      "Mean Recall: 0.6783193277310924\n",
      "\n",
      "Cross-Validation F1 Scores: [0.64864865 0.64615385 0.71875    0.8        0.66666667]\n",
      "Mean F1 Score: 0.6960438322938323\n"
     ]
    }
   ],
   "source": [
    "#Decision Tree\n",
    "X,y = preprocessEmbeddingsTitle(data_tf_Title_bert, col2)\n",
    "training(DecisionTreeClassifier(), X,y)"
   ]
  },
  {
   "cell_type": "code",
   "execution_count": 51,
   "metadata": {},
   "outputs": [
    {
     "name": "stdout",
     "output_type": "stream",
     "text": [
      "Cross-Validation Accuracy Scores: [0.73913043 0.75362319 0.70588235 0.79411765 0.80882353]\n",
      "Mean Accuracy: 0.7603154305200341\n",
      "\n",
      "Cross-Validation Precision Scores: [0.69767442 0.74285714 0.76923077 0.85714286 0.83870968]\n",
      "Mean Precision: 0.781122973050955\n",
      "\n",
      "Cross-Validation Recall Scores: [0.85714286 0.76470588 0.58823529 0.70588235 0.76470588]\n",
      "Mean Recall: 0.7361344537815127\n",
      "\n",
      "Cross-Validation F1 Scores: [0.76923077 0.75362319 0.66666667 0.77419355 0.8       ]\n",
      "Mean F1 Score: 0.752742834538066\n"
     ]
    }
   ],
   "source": [
    "#Random Forest\n",
    "X,y = preprocessEmbeddingsTitle(data_tf_Title_bert, col2)\n",
    "training(RandomForestClassifier(), X,y)"
   ]
  },
  {
   "cell_type": "markdown",
   "metadata": {},
   "source": [
    "#### Result 4: TensorFlow with Title and Body"
   ]
  },
  {
   "cell_type": "code",
   "execution_count": 62,
   "metadata": {},
   "outputs": [
    {
     "name": "stdout",
     "output_type": "stream",
     "text": [
      "Cross-Validation Accuracy Scores: [0.73913043 0.79710145 0.77941176 0.82352941 0.79411765]\n",
      "Mean Accuracy: 0.7866581415174766\n",
      "\n",
      "Cross-Validation Precision Scores: [0.71794872 0.79411765 0.91304348 0.86666667 0.8125    ]\n",
      "Mean Precision: 0.8208553019870155\n",
      "\n",
      "Cross-Validation Recall Scores: [0.8        0.79411765 0.61764706 0.76470588 0.76470588]\n",
      "Mean Recall: 0.7482352941176471\n",
      "\n",
      "Cross-Validation F1 Scores: [0.75675676 0.79411765 0.73684211 0.8125     0.78787879]\n",
      "Mean F1 Score: 0.7776190593915053\n"
     ]
    }
   ],
   "source": [
    "#Logistic Regression\n",
    "X,y = preprocessEmbeddingsTitle(data_tf_concat_bert, col1)\n",
    "training(LogisticRegression(), X,y)"
   ]
  },
  {
   "cell_type": "code",
   "execution_count": 63,
   "metadata": {},
   "outputs": [
    {
     "name": "stdout",
     "output_type": "stream",
     "text": [
      "Cross-Validation Accuracy Scores: [0.62318841 0.60869565 0.55882353 0.44117647 0.54411765]\n",
      "Mean Accuracy: 0.5552003410059676\n",
      "\n",
      "Cross-Validation Precision Scores: [0.63636364 0.6        0.5625     0.43333333 0.5483871 ]\n",
      "Mean Precision: 0.5561168132942327\n",
      "\n",
      "Cross-Validation Recall Scores: [0.6        0.61764706 0.52941176 0.38235294 0.5       ]\n",
      "Mean Recall: 0.5258823529411765\n",
      "\n",
      "Cross-Validation F1 Scores: [0.61764706 0.60869565 0.54545455 0.40625    0.52307692]\n",
      "Mean F1 Score: 0.5402248359057822\n"
     ]
    }
   ],
   "source": [
    "#Decision Tree\n",
    "X,y = preprocessEmbeddingsTitle(data_tf_concat_bert, col1)\n",
    "training(DecisionTreeClassifier(), X,y)"
   ]
  },
  {
   "cell_type": "code",
   "execution_count": 64,
   "metadata": {},
   "outputs": [
    {
     "name": "stdout",
     "output_type": "stream",
     "text": [
      "Cross-Validation Accuracy Scores: [0.76811594 0.66666667 0.75       0.70588235 0.77941176]\n",
      "Mean Accuracy: 0.7340153452685423\n",
      "\n",
      "Cross-Validation Precision Scores: [0.78787879 0.7037037  0.86956522 0.71875    0.80645161]\n",
      "Mean Precision: 0.7772698643754044\n",
      "\n",
      "Cross-Validation Recall Scores: [0.74285714 0.55882353 0.58823529 0.67647059 0.73529412]\n",
      "Mean Recall: 0.6603361344537815\n",
      "\n",
      "Cross-Validation F1 Scores: [0.76470588 0.62295082 0.70175439 0.6969697  0.76923077]\n",
      "Mean F1 Score: 0.7111223108380902\n"
     ]
    }
   ],
   "source": [
    "#Random Forest\n",
    "X,y = preprocessEmbeddingsTitle(data_tf_concat_bert, col1)\n",
    "training(RandomForestClassifier(), X,y)"
   ]
  },
  {
   "cell_type": "markdown",
   "metadata": {},
   "source": [
    "### 2. Using Bag Of Words"
   ]
  },
  {
   "cell_type": "markdown",
   "metadata": {},
   "source": []
  }
 ],
 "metadata": {
  "kernelspec": {
   "display_name": "mohamed_env",
   "language": "python",
   "name": "python3"
  },
  "language_info": {
   "codemirror_mode": {
    "name": "ipython",
    "version": 3
   },
   "file_extension": ".py",
   "mimetype": "text/x-python",
   "name": "python",
   "nbconvert_exporter": "python",
   "pygments_lexer": "ipython3",
   "version": "3.10.13"
  }
 },
 "nbformat": 4,
 "nbformat_minor": 2
}
