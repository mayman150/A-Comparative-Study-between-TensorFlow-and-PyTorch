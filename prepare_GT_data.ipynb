{
 "cells": [
  {
   "cell_type": "code",
   "execution_count": 2,
   "metadata": {},
   "outputs": [],
   "source": [
    "import pandas as pd\n",
    "import numpy as np\n",
    "import matplotlib.pyplot as plt"
   ]
  },
  {
   "cell_type": "markdown",
   "metadata": {},
   "source": [
    "### Prepare Data"
   ]
  },
  {
   "cell_type": "code",
   "execution_count": null,
   "metadata": {},
   "outputs": [],
   "source": [
    "# Read in the data: multiple CSV file in directory 'data'\n",
    "# Path: prepare_data.ipynb\n",
    "df_tf = pd.read_csv('tf_issues/tf_issues_classified.csv_0.csv')\n",
    "df_torch = pd.read_csv('torch_issues/torch_issues_classified.csv_0.csv')"
   ]
  },
  {
   "cell_type": "code",
   "execution_count": 111,
   "metadata": {},
   "outputs": [],
   "source": [
    "# Concatenate the dataframes\n",
    "\n",
    "for i in range(1, 4):\n",
    "    df_tf = pd.concat([df_tf, pd.read_csv('tf_issues/tf_issues_classified.csv_' + str(i) + '.csv')])\n",
    "\n",
    "for i in range(1, 3):\n",
    "    df_torch = pd.concat([df_torch, pd.read_csv('torch_issues/torch_issues_classified.csv_' + str(i) + '.csv')])"
   ]
  },
  {
   "cell_type": "code",
   "execution_count": 112,
   "metadata": {},
   "outputs": [
    {
     "data": {
      "text/plain": [
       "Index(['Issue Number', 'Issue Title', 'Issue Body', 'Time created',\n",
       "       'Time closed', 'Number of Assignees', 'Number of Comments', 'Tags',\n",
       "       'Is Bug'],\n",
       "      dtype='object')"
      ]
     },
     "execution_count": 112,
     "metadata": {},
     "output_type": "execute_result"
    }
   ],
   "source": [
    "df_torch_bug.columns"
   ]
  },
  {
   "cell_type": "code",
   "execution_count": 113,
   "metadata": {},
   "outputs": [],
   "source": [
    "#Getting the datafrom xlsx file in a dataframe \n",
    "df_tf_bug = pd.read_excel('/home/ayman/Downloads/dataset.xlsx')\n",
    "df_torch_bug = pd.read_excel('/home/ayman/Downloads/PyTorchBugDataset.xlsx', sheet_name='Dataset')"
   ]
  },
  {
   "cell_type": "code",
   "execution_count": 114,
   "metadata": {},
   "outputs": [],
   "source": [
    "buggy_issues_torch = df_torch_bug[\"Issue #\"].tolist()\n",
    "buggy_issues_tf = df_tf_bug[\"issue\"].tolist()"
   ]
  },
  {
   "cell_type": "code",
   "execution_count": 115,
   "metadata": {},
   "outputs": [],
   "source": [
    "#remove all the issues that none or nan from both lists\n",
    "buggy_issues_torch = [x for x in buggy_issues_torch if str(x) != 'nan' and str(x) != 'none']\n",
    "buggy_issues_tf = [x for x in buggy_issues_tf if str(x) != 'nan'and str(x) != 'none']"
   ]
  },
  {
   "cell_type": "code",
   "execution_count": 116,
   "metadata": {},
   "outputs": [],
   "source": [
    "df_torch.loc[df_torch['Issue Number'].isin(buggy_issues_torch), 'Is Bug'] = True"
   ]
  },
  {
   "cell_type": "code",
   "execution_count": 117,
   "metadata": {},
   "outputs": [],
   "source": [
    "#change any issue in buggy_issues_tf to Is Bug feature to true \n",
    "df_tf.loc[df_tf['Issue Number'].isin(buggy_issues_tf), 'Is Bug'] = True"
   ]
  },
  {
   "cell_type": "markdown",
   "metadata": {},
   "source": [
    "### Helper Functions needed"
   ]
  },
  {
   "cell_type": "code",
   "execution_count": null,
   "metadata": {},
   "outputs": [],
   "source": [
    "import re\n",
    "\n",
    "def get_type(string):\n",
    "    # Use regular expression to find all occurrences of 'name=\"type:xyz\"'\n",
    "    matches = re.findall(r'name=\"([^\"]+)', string)\n",
    "    #convert the list to string\n",
    "    matches = ' '.join(matches)\n",
    "    return matches"
   ]
  },
  {
   "cell_type": "code",
   "execution_count": 121,
   "metadata": {},
   "outputs": [],
   "source": [
    "def Gathering_GT_Data(df, buggy_issues):\n",
    "    df_bug = df[df['Issue Number'].isin(buggy_issues)]\n",
    "    #get the examples that are buggy \n",
    "    df_temp = df[df['Is Bug'] == True]\n",
    "    if(len(df_bug) < 200):\n",
    "        df_bug = pd.concat([df_bug, df_temp[~df_temp['Issue Number'].isin(buggy_issues_tf)].head(200 - len(df_bug))])\n",
    "    #get the examples that are not buggy\n",
    "    df_bug = pd.concat([df_bug, df[df['Is Bug'] == False ].head(len(df_bug))])\n",
    "    df_bug['Tags'] = df_bug['Tags'].apply(get_type)\n",
    "    df_bug['Issue Title'] = df_bug['Issue Title'] + ' ' + df_bug['Tags']\n",
    "    return df_bug\n"
   ]
  },
  {
   "cell_type": "code",
   "execution_count": 124,
   "metadata": {},
   "outputs": [],
   "source": []
  },
  {
   "cell_type": "markdown",
   "metadata": {},
   "source": [
    "### Prepare The Data for TensorFlow Model"
   ]
  },
  {
   "cell_type": "code",
   "execution_count": 60,
   "metadata": {},
   "outputs": [],
   "source": [
    "# #get the issues that are buggy using buggy issues list\n",
    "# df_tf_bug = df_tf[df_tf['Issue Number'].isin(buggy_issues_tf)]\n",
    "# #get the examples that are buggy \n",
    "# df_temp = df_tf[df_tf['Is Bug'] == True]\n",
    "# df_tf_bug = pd.concat([df_tf_bug, df_temp[~df_temp['Issue Number'].isin(buggy_issues_tf)].head(100)])\n",
    "# # #add 171 issues from df_tf that are not buggy to df_tf_bug\n",
    "# df_tf_bug = pd.concat([df_tf_bug, df_tf[df_tf['Is Bug'] == False ].head(171)])"
   ]
  },
  {
   "cell_type": "code",
   "execution_count": 125,
   "metadata": {},
   "outputs": [],
   "source": [
    "df_tf_bug = Gathering_GT_Data(df_tf, buggy_issues_tf)"
   ]
  },
  {
   "cell_type": "code",
   "execution_count": 126,
   "metadata": {},
   "outputs": [
    {
     "data": {
      "text/plain": [
       "Is Bug\n",
       "True     200\n",
       "False    200\n",
       "Name: count, dtype: int64"
      ]
     },
     "execution_count": 126,
     "metadata": {},
     "output_type": "execute_result"
    }
   ],
   "source": [
    "df_tf_bug['Is Bug'].value_counts()"
   ]
  },
  {
   "cell_type": "code",
   "execution_count": 83,
   "metadata": {},
   "outputs": [],
   "source": [
    "prepared_data_tf = df_tf_bug[['Issue Title', 'Issue Body', 'Is Bug']]"
   ]
  },
  {
   "cell_type": "code",
   "execution_count": 84,
   "metadata": {},
   "outputs": [
    {
     "data": {
      "text/html": [
       "<div>\n",
       "<style scoped>\n",
       "    .dataframe tbody tr th:only-of-type {\n",
       "        vertical-align: middle;\n",
       "    }\n",
       "\n",
       "    .dataframe tbody tr th {\n",
       "        vertical-align: top;\n",
       "    }\n",
       "\n",
       "    .dataframe thead th {\n",
       "        text-align: right;\n",
       "    }\n",
       "</style>\n",
       "<table border=\"1\" class=\"dataframe\">\n",
       "  <thead>\n",
       "    <tr style=\"text-align: right;\">\n",
       "      <th></th>\n",
       "      <th>Issue Title</th>\n",
       "      <th>Issue Body</th>\n",
       "      <th>Is Bug</th>\n",
       "    </tr>\n",
       "  </thead>\n",
       "  <tbody>\n",
       "    <tr>\n",
       "      <th>69</th>\n",
       "      <td>TF 2.0: tf.stack can cause a segmentation faul...</td>\n",
       "      <td>**System information**\\n- Have I written custo...</td>\n",
       "      <td>True</td>\n",
       "    </tr>\n",
       "    <tr>\n",
       "      <th>145</th>\n",
       "      <td>[2.0] tf.numpy_function logs deprecation warni...</td>\n",
       "      <td>**System information**\\n- Have I written custo...</td>\n",
       "      <td>True</td>\n",
       "    </tr>\n",
       "    <tr>\n",
       "      <th>216</th>\n",
       "      <td>Compilation error of TensorFlow Lite on Windows</td>\n",
       "      <td>&lt;em&gt;Please make sure that this is a bug. As pe...</td>\n",
       "      <td>True</td>\n",
       "    </tr>\n",
       "    <tr>\n",
       "      <th>336</th>\n",
       "      <td>[Bug report] wrong container setting in OpsTes...</td>\n",
       "      <td>File: tensorflow/core/kernels/ops_testutil.h\\n...</td>\n",
       "      <td>True</td>\n",
       "    </tr>\n",
       "    <tr>\n",
       "      <th>780</th>\n",
       "      <td>Dataset iterator is stalled indefinitely with ...</td>\n",
       "      <td>**System information**\\n- Have I written custo...</td>\n",
       "      <td>True</td>\n",
       "    </tr>\n",
       "    <tr>\n",
       "      <th>...</th>\n",
       "      <td>...</td>\n",
       "      <td>...</td>\n",
       "      <td>...</td>\n",
       "    </tr>\n",
       "    <tr>\n",
       "      <th>371</th>\n",
       "      <td>Android GPU Delegate Error while using groups ...</td>\n",
       "      <td>**System information**\\n- Android 13:\\n- Tenso...</td>\n",
       "      <td>False</td>\n",
       "    </tr>\n",
       "    <tr>\n",
       "      <th>372</th>\n",
       "      <td>Converted(quantized) model of simple dense neu...</td>\n",
       "      <td>### 1. System information\\n\\n- OS Platform and...</td>\n",
       "      <td>False</td>\n",
       "    </tr>\n",
       "    <tr>\n",
       "      <th>373</th>\n",
       "      <td>import tensorflow error stat:awaiting response...</td>\n",
       "      <td>### Issue type\\n\\nBuild/Install\\n\\n### Have yo...</td>\n",
       "      <td>False</td>\n",
       "    </tr>\n",
       "    <tr>\n",
       "      <th>374</th>\n",
       "      <td>ImportError: undefined symbol after install st...</td>\n",
       "      <td>### Issue type\\n\\nBug\\n\\n### Have you reproduc...</td>\n",
       "      <td>False</td>\n",
       "    </tr>\n",
       "    <tr>\n",
       "      <th>375</th>\n",
       "      <td>xla_cpu_gpu_device: MSVC compile errors stat:a...</td>\n",
       "      <td>### Issue type\\n\\nBuild/Install\\n\\n### Have yo...</td>\n",
       "      <td>False</td>\n",
       "    </tr>\n",
       "  </tbody>\n",
       "</table>\n",
       "<p>342 rows × 3 columns</p>\n",
       "</div>"
      ],
      "text/plain": [
       "                                           Issue Title  \\\n",
       "69   TF 2.0: tf.stack can cause a segmentation faul...   \n",
       "145  [2.0] tf.numpy_function logs deprecation warni...   \n",
       "216   Compilation error of TensorFlow Lite on Windows    \n",
       "336  [Bug report] wrong container setting in OpsTes...   \n",
       "780  Dataset iterator is stalled indefinitely with ...   \n",
       "..                                                 ...   \n",
       "371  Android GPU Delegate Error while using groups ...   \n",
       "372  Converted(quantized) model of simple dense neu...   \n",
       "373  import tensorflow error stat:awaiting response...   \n",
       "374  ImportError: undefined symbol after install st...   \n",
       "375  xla_cpu_gpu_device: MSVC compile errors stat:a...   \n",
       "\n",
       "                                            Issue Body  Is Bug  \n",
       "69   **System information**\\n- Have I written custo...    True  \n",
       "145  **System information**\\n- Have I written custo...    True  \n",
       "216  <em>Please make sure that this is a bug. As pe...    True  \n",
       "336  File: tensorflow/core/kernels/ops_testutil.h\\n...    True  \n",
       "780  **System information**\\n- Have I written custo...    True  \n",
       "..                                                 ...     ...  \n",
       "371  **System information**\\n- Android 13:\\n- Tenso...   False  \n",
       "372  ### 1. System information\\n\\n- OS Platform and...   False  \n",
       "373  ### Issue type\\n\\nBuild/Install\\n\\n### Have yo...   False  \n",
       "374  ### Issue type\\n\\nBug\\n\\n### Have you reproduc...   False  \n",
       "375  ### Issue type\\n\\nBuild/Install\\n\\n### Have yo...   False  \n",
       "\n",
       "[342 rows x 3 columns]"
      ]
     },
     "execution_count": 84,
     "metadata": {},
     "output_type": "execute_result"
    }
   ],
   "source": [
    "prepared_data_tf"
   ]
  },
  {
   "cell_type": "code",
   "execution_count": 85,
   "metadata": {},
   "outputs": [],
   "source": [
    "#add it in a csv file\n",
    "prepared_data_tf.to_csv('GT_tf_data.csv', index=False)"
   ]
  },
  {
   "cell_type": "markdown",
   "metadata": {},
   "source": [
    "### Prepare The Data for PyTorch Model"
   ]
  },
  {
   "cell_type": "code",
   "execution_count": 1,
   "metadata": {},
   "outputs": [],
   "source": [
    "# #get the issues that are buggy using buggy issues list\n",
    "# df_torch_bug = df_torch[df_torch['Issue Number'].isin(buggy_issues_torch)]\n",
    "# #get the examples that are buggy \n",
    "# df_temp = df_torch[df_torch['Is Bug'] == True]\n",
    "# # #add 171 issues from df_tf that are not buggy to df_tf_bug\n",
    "# df_torch_bug = pd.concat([df_torch_bug, df_torch[df_torch['Is Bug'] == False ].head(194)])"
   ]
  },
  {
   "cell_type": "code",
   "execution_count": null,
   "metadata": {},
   "outputs": [],
   "source": [
    "df_torch_bug = Gathering_GT_Data(df_torch, buggy_issues_torch)"
   ]
  },
  {
   "cell_type": "code",
   "execution_count": 97,
   "metadata": {},
   "outputs": [
    {
     "data": {
      "text/html": [
       "<div>\n",
       "<style scoped>\n",
       "    .dataframe tbody tr th:only-of-type {\n",
       "        vertical-align: middle;\n",
       "    }\n",
       "\n",
       "    .dataframe tbody tr th {\n",
       "        vertical-align: top;\n",
       "    }\n",
       "\n",
       "    .dataframe thead th {\n",
       "        text-align: right;\n",
       "    }\n",
       "</style>\n",
       "<table border=\"1\" class=\"dataframe\">\n",
       "  <thead>\n",
       "    <tr style=\"text-align: right;\">\n",
       "      <th></th>\n",
       "      <th>Issue Number</th>\n",
       "      <th>Issue Title</th>\n",
       "      <th>Issue Body</th>\n",
       "      <th>Time created</th>\n",
       "      <th>Time closed</th>\n",
       "      <th>Number of Assignees</th>\n",
       "      <th>Number of Comments</th>\n",
       "      <th>Tags</th>\n",
       "      <th>Is Bug</th>\n",
       "    </tr>\n",
       "  </thead>\n",
       "  <tbody>\n",
       "    <tr>\n",
       "      <th>7842</th>\n",
       "      <td>71280</td>\n",
       "      <td>torch dependencies aren't fully specified + pk...</td>\n",
       "      <td>### 🐛 Describe the bug\\n\\nIn pytorch/torch_ver...</td>\n",
       "      <td>2022-01-13 20:36:39+00:00</td>\n",
       "      <td>2022-01-18 22:12:32+00:00</td>\n",
       "      <td>1</td>\n",
       "      <td>13</td>\n",
       "      <td>[Label(name=\"triage review\"), Label(name=\"modu...</td>\n",
       "      <td>True</td>\n",
       "    </tr>\n",
       "    <tr>\n",
       "      <th>7874</th>\n",
       "      <td>71089</td>\n",
       "      <td>Segfault using `torch.unique` on tensor with N...</td>\n",
       "      <td>### 🐛 Describe the bug\\n\\n`torch.unique(torch....</td>\n",
       "      <td>2022-01-10 12:59:06+00:00</td>\n",
       "      <td>2022-01-21 02:36:19+00:00</td>\n",
       "      <td>1</td>\n",
       "      <td>4</td>\n",
       "      <td>[Label(name=\"high priority\"), Label(name=\"modu...</td>\n",
       "      <td>True</td>\n",
       "    </tr>\n",
       "    <tr>\n",
       "      <th>7885</th>\n",
       "      <td>71063</td>\n",
       "      <td>Noisy warning raised by 'default_collate'</td>\n",
       "      <td>### 🐛 Describe the bug\\n\\nAfter upgrading pyto...</td>\n",
       "      <td>2022-01-09 06:02:21+00:00</td>\n",
       "      <td>2022-01-21 19:35:40+00:00</td>\n",
       "      <td>0</td>\n",
       "      <td>2</td>\n",
       "      <td>[Label(name=\"triaged\"), Label(name=\"module: da...</td>\n",
       "      <td>True</td>\n",
       "    </tr>\n",
       "    <tr>\n",
       "      <th>8423</th>\n",
       "      <td>67626</td>\n",
       "      <td>Get rid of the blocking call in RRefProxy</td>\n",
       "      <td>RRefProxy (`rref.rpc_async`, `rref.rpc_sync`, ...</td>\n",
       "      <td>2021-11-01 17:14:37+00:00</td>\n",
       "      <td>2022-01-19 23:25:02+00:00</td>\n",
       "      <td>1</td>\n",
       "      <td>1</td>\n",
       "      <td>[Label(name=\"oncall: distributed\"), Label(name...</td>\n",
       "      <td>True</td>\n",
       "    </tr>\n",
       "    <tr>\n",
       "      <th>8519</th>\n",
       "      <td>67239</td>\n",
       "      <td>channels_last significantly degrades accuracy</td>\n",
       "      <td>## 🐛 Bug\\n\\nMoving a simple ResNet model and C...</td>\n",
       "      <td>2021-10-26 03:08:50+00:00</td>\n",
       "      <td>2021-11-03 16:49:51+00:00</td>\n",
       "      <td>0</td>\n",
       "      <td>16</td>\n",
       "      <td>[Label(name=\"high priority\"), Label(name=\"modu...</td>\n",
       "      <td>True</td>\n",
       "    </tr>\n",
       "    <tr>\n",
       "      <th>...</th>\n",
       "      <td>...</td>\n",
       "      <td>...</td>\n",
       "      <td>...</td>\n",
       "      <td>...</td>\n",
       "      <td>...</td>\n",
       "      <td>...</td>\n",
       "      <td>...</td>\n",
       "      <td>...</td>\n",
       "      <td>...</td>\n",
       "    </tr>\n",
       "    <tr>\n",
       "      <th>401</th>\n",
       "      <td>110857</td>\n",
       "      <td>torchscript throws warnings on everything</td>\n",
       "      <td>```py\\nimport torch\\n\\nscripted = torch.jit.sc...</td>\n",
       "      <td>2023-10-09 09:24:32+00:00</td>\n",
       "      <td>2023-10-11 09:48:26+00:00</td>\n",
       "      <td>0</td>\n",
       "      <td>5</td>\n",
       "      <td>[Label(name=\"oncall: jit\")]</td>\n",
       "      <td>False</td>\n",
       "    </tr>\n",
       "    <tr>\n",
       "      <th>404</th>\n",
       "      <td>110839</td>\n",
       "      <td>DISABLED test_pinned_memory_with_cudaregister ...</td>\n",
       "      <td>Platforms: rocm\\n\\nThis test was disabled beca...</td>\n",
       "      <td>2023-10-09 00:57:03+00:00</td>\n",
       "      <td>2023-10-09 15:41:44+00:00</td>\n",
       "      <td>0</td>\n",
       "      <td>3</td>\n",
       "      <td>[Label(name=\"module: cuda\"), Label(name=\"modul...</td>\n",
       "      <td>False</td>\n",
       "    </tr>\n",
       "    <tr>\n",
       "      <th>405</th>\n",
       "      <td>110838</td>\n",
       "      <td>DISABLED test_pinned_memory_with_cudaregister ...</td>\n",
       "      <td>Platforms: rocm\\n\\nThis test was disabled beca...</td>\n",
       "      <td>2023-10-09 00:57:01+00:00</td>\n",
       "      <td>2023-10-09 03:39:28+00:00</td>\n",
       "      <td>0</td>\n",
       "      <td>6</td>\n",
       "      <td>[Label(name=\"module: cuda\"), Label(name=\"modul...</td>\n",
       "      <td>False</td>\n",
       "    </tr>\n",
       "    <tr>\n",
       "      <th>408</th>\n",
       "      <td>110812</td>\n",
       "      <td>SeLU Activation Function Implementation In GRU...</td>\n",
       "      <td>The actual task is to replace the tanh_() at l...</td>\n",
       "      <td>2023-10-08 06:33:30+00:00</td>\n",
       "      <td>2023-10-10 14:52:16+00:00</td>\n",
       "      <td>0</td>\n",
       "      <td>2</td>\n",
       "      <td>[]</td>\n",
       "      <td>False</td>\n",
       "    </tr>\n",
       "    <tr>\n",
       "      <th>409</th>\n",
       "      <td>110807</td>\n",
       "      <td>`reinterpret_cast&lt;float&amp;&gt;` violates strict ali...</td>\n",
       "      <td>&gt;`reinterpret_cast&lt;float&amp;&gt;` on an int is UB be...</td>\n",
       "      <td>2023-10-08 03:53:13+00:00</td>\n",
       "      <td>2023-10-10 11:16:44+00:00</td>\n",
       "      <td>1</td>\n",
       "      <td>0</td>\n",
       "      <td>[Label(name=\"triaged\"), Label(name=\"module: cp...</td>\n",
       "      <td>False</td>\n",
       "    </tr>\n",
       "  </tbody>\n",
       "</table>\n",
       "<p>388 rows × 9 columns</p>\n",
       "</div>"
      ],
      "text/plain": [
       "      Issue Number                                        Issue Title  \\\n",
       "7842         71280  torch dependencies aren't fully specified + pk...   \n",
       "7874         71089  Segfault using `torch.unique` on tensor with N...   \n",
       "7885         71063          Noisy warning raised by 'default_collate'   \n",
       "8423         67626          Get rid of the blocking call in RRefProxy   \n",
       "8519         67239      channels_last significantly degrades accuracy   \n",
       "...            ...                                                ...   \n",
       "401         110857          torchscript throws warnings on everything   \n",
       "404         110839  DISABLED test_pinned_memory_with_cudaregister ...   \n",
       "405         110838  DISABLED test_pinned_memory_with_cudaregister ...   \n",
       "408         110812  SeLU Activation Function Implementation In GRU...   \n",
       "409         110807  `reinterpret_cast<float&>` violates strict ali...   \n",
       "\n",
       "                                             Issue Body  \\\n",
       "7842  ### 🐛 Describe the bug\\n\\nIn pytorch/torch_ver...   \n",
       "7874  ### 🐛 Describe the bug\\n\\n`torch.unique(torch....   \n",
       "7885  ### 🐛 Describe the bug\\n\\nAfter upgrading pyto...   \n",
       "8423  RRefProxy (`rref.rpc_async`, `rref.rpc_sync`, ...   \n",
       "8519  ## 🐛 Bug\\n\\nMoving a simple ResNet model and C...   \n",
       "...                                                 ...   \n",
       "401   ```py\\nimport torch\\n\\nscripted = torch.jit.sc...   \n",
       "404   Platforms: rocm\\n\\nThis test was disabled beca...   \n",
       "405   Platforms: rocm\\n\\nThis test was disabled beca...   \n",
       "408   The actual task is to replace the tanh_() at l...   \n",
       "409   >`reinterpret_cast<float&>` on an int is UB be...   \n",
       "\n",
       "                   Time created                Time closed  \\\n",
       "7842  2022-01-13 20:36:39+00:00  2022-01-18 22:12:32+00:00   \n",
       "7874  2022-01-10 12:59:06+00:00  2022-01-21 02:36:19+00:00   \n",
       "7885  2022-01-09 06:02:21+00:00  2022-01-21 19:35:40+00:00   \n",
       "8423  2021-11-01 17:14:37+00:00  2022-01-19 23:25:02+00:00   \n",
       "8519  2021-10-26 03:08:50+00:00  2021-11-03 16:49:51+00:00   \n",
       "...                         ...                        ...   \n",
       "401   2023-10-09 09:24:32+00:00  2023-10-11 09:48:26+00:00   \n",
       "404   2023-10-09 00:57:03+00:00  2023-10-09 15:41:44+00:00   \n",
       "405   2023-10-09 00:57:01+00:00  2023-10-09 03:39:28+00:00   \n",
       "408   2023-10-08 06:33:30+00:00  2023-10-10 14:52:16+00:00   \n",
       "409   2023-10-08 03:53:13+00:00  2023-10-10 11:16:44+00:00   \n",
       "\n",
       "      Number of Assignees  Number of Comments  \\\n",
       "7842                    1                  13   \n",
       "7874                    1                   4   \n",
       "7885                    0                   2   \n",
       "8423                    1                   1   \n",
       "8519                    0                  16   \n",
       "...                   ...                 ...   \n",
       "401                     0                   5   \n",
       "404                     0                   3   \n",
       "405                     0                   6   \n",
       "408                     0                   2   \n",
       "409                     1                   0   \n",
       "\n",
       "                                                   Tags  Is Bug  \n",
       "7842  [Label(name=\"triage review\"), Label(name=\"modu...    True  \n",
       "7874  [Label(name=\"high priority\"), Label(name=\"modu...    True  \n",
       "7885  [Label(name=\"triaged\"), Label(name=\"module: da...    True  \n",
       "8423  [Label(name=\"oncall: distributed\"), Label(name...    True  \n",
       "8519  [Label(name=\"high priority\"), Label(name=\"modu...    True  \n",
       "...                                                 ...     ...  \n",
       "401                         [Label(name=\"oncall: jit\")]   False  \n",
       "404   [Label(name=\"module: cuda\"), Label(name=\"modul...   False  \n",
       "405   [Label(name=\"module: cuda\"), Label(name=\"modul...   False  \n",
       "408                                                  []   False  \n",
       "409   [Label(name=\"triaged\"), Label(name=\"module: cp...   False  \n",
       "\n",
       "[388 rows x 9 columns]"
      ]
     },
     "execution_count": 97,
     "metadata": {},
     "output_type": "execute_result"
    }
   ],
   "source": [
    "df_torch_bug"
   ]
  },
  {
   "cell_type": "code",
   "execution_count": 98,
   "metadata": {},
   "outputs": [
    {
     "data": {
      "text/plain": [
       "Is Bug\n",
       "True     194\n",
       "False    194\n",
       "Name: count, dtype: int64"
      ]
     },
     "execution_count": 98,
     "metadata": {},
     "output_type": "execute_result"
    }
   ],
   "source": [
    "df_torch_bug['Is Bug'].value_counts()"
   ]
  },
  {
   "cell_type": "code",
   "execution_count": 101,
   "metadata": {},
   "outputs": [],
   "source": [
    "GT_torch_data = df_torch_bug[['Issue Title', 'Issue Body', 'Is Bug']]"
   ]
  },
  {
   "cell_type": "code",
   "execution_count": 102,
   "metadata": {},
   "outputs": [],
   "source": [
    "#to csv file\n",
    "GT_torch_data.to_csv('GT_torch_data.csv', index=False)"
   ]
  }
 ],
 "metadata": {
  "kernelspec": {
   "display_name": "my_env",
   "language": "python",
   "name": "python3"
  },
  "language_info": {
   "codemirror_mode": {
    "name": "ipython",
    "version": 3
   },
   "file_extension": ".py",
   "mimetype": "text/x-python",
   "name": "python",
   "nbconvert_exporter": "python",
   "pygments_lexer": "ipython3",
   "version": "3.10.13"
  }
 },
 "nbformat": 4,
 "nbformat_minor": 2
}
